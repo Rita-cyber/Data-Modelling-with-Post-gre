{
  "nbformat": 4,
  "nbformat_minor": 0,
  "metadata": {
    "hide_input": false,
    "kernelspec": {
      "display_name": "Python 3",
      "language": "python",
      "name": "python3"
    },
    "language_info": {
      "codemirror_mode": {
        "name": "ipython",
        "version": 3
      },
      "file_extension": ".py",
      "mimetype": "text/x-python",
      "name": "python",
      "nbconvert_exporter": "python",
      "pygments_lexer": "ipython3",
      "version": "3.6.0"
    },
    "toc": {
      "base_numbering": 1,
      "nav_menu": {},
      "number_sections": true,
      "sideBar": true,
      "skip_h1_title": false,
      "title_cell": "Table of Contents",
      "title_sidebar": "Contents",
      "toc_cell": false,
      "toc_position": {},
      "toc_section_display": true,
      "toc_window_display": false
    },
    "colab": {
      "name": "Data-Exploration.ipynb",
      "provenance": [],
      "toc_visible": true
    }
  },
  "cells": [
    {
      "cell_type": "markdown",
      "metadata": {
        "heading_collapsed": true,
        "id": "LWt9-Km9h9Dh",
        "colab_type": "text"
      },
      "source": [
        "# Imports"
      ]
    },
    {
      "cell_type": "code",
      "metadata": {
        "hidden": true,
        "id": "dgd4E_ush9Do",
        "colab_type": "code",
        "colab": {}
      },
      "source": [
        "import os\n",
        "from pathlib import Path\n",
        "import pandas as pd"
      ],
      "execution_count": 0,
      "outputs": []
    },
    {
      "cell_type": "code",
      "metadata": {
        "id": "wDPIwxoGrJiD",
        "colab_type": "code",
        "outputId": "fb0f0868-c5e8-4323-a353-9d5c54b1bd14",
        "colab": {
          "base_uri": "https://localhost:8080/",
          "height": 34
        }
      },
      "source": [
        "%ls"
      ],
      "execution_count": 0,
      "outputs": [
        {
          "output_type": "stream",
          "text": [
            "\u001b[0m\u001b[01;34mdata\u001b[0m/  \u001b[01;34mdrive\u001b[0m/  \u001b[01;34msample_data\u001b[0m/\n"
          ],
          "name": "stdout"
        }
      ]
    },
    {
      "cell_type": "markdown",
      "metadata": {
        "id": "cP853bhvh9Dt",
        "colab_type": "text"
      },
      "source": [
        "# Data Exploration"
      ]
    },
    {
      "cell_type": "code",
      "metadata": {
        "id": "6PPUdn8vi6ON",
        "colab_type": "code",
        "outputId": "9249510d-3fa1-416a-bcec-a9244ff5c72c",
        "colab": {
          "base_uri": "https://localhost:8080/",
          "height": 122
        }
      },
      "source": [
        "from google.colab import drive\n",
        "drive.mount('/content/drive')"
      ],
      "execution_count": 0,
      "outputs": [
        {
          "output_type": "stream",
          "text": [
            "Go to this URL in a browser: https://accounts.google.com/o/oauth2/auth?client_id=947318989803-6bn6qk8qdgf4n4g3pfee6491hc0brc4i.apps.googleusercontent.com&redirect_uri=urn%3Aietf%3Awg%3Aoauth%3A2.0%3Aoob&scope=email%20https%3A%2F%2Fwww.googleapis.com%2Fauth%2Fdocs.test%20https%3A%2F%2Fwww.googleapis.com%2Fauth%2Fdrive%20https%3A%2F%2Fwww.googleapis.com%2Fauth%2Fdrive.photos.readonly%20https%3A%2F%2Fwww.googleapis.com%2Fauth%2Fpeopleapi.readonly&response_type=code\n",
            "\n",
            "Enter your authorization code:\n",
            "··········\n",
            "Mounted at /content/drive\n"
          ],
          "name": "stdout"
        }
      ]
    },
    {
      "cell_type": "code",
      "metadata": {
        "id": "dzsgHwBHh9Du",
        "colab_type": "code",
        "outputId": "fd047875-6b46-4893-a3a0-5baff187b6ed",
        "colab": {
          "base_uri": "https://localhost:8080/",
          "height": 85
        }
      },
      "source": [
        "ls data/song_data/A/A/A/"
      ],
      "execution_count": 0,
      "outputs": [
        {
          "output_type": "stream",
          "text": [
            "TRAAAAW128F429D538.json  TRAAAFD128F92F423A.json  TRAAARJ128F9320760.json\n",
            "TRAAABD128F429CF47.json  TRAAAMO128F1481E7F.json  TRAAAVG12903CFA543.json\n",
            "TRAAADZ128F9348C2E.json  TRAAAMQ128F1460CD3.json  TRAAAVO128F93133D4.json\n",
            "TRAAAEF128F4273421.json  TRAAAPK128E0786D96.json\n"
          ],
          "name": "stdout"
        }
      ]
    },
    {
      "cell_type": "code",
      "metadata": {
        "id": "1W7IDZ__h9D3",
        "colab_type": "code",
        "colab": {}
      },
      "source": [
        "PATH = Path('data/')"
      ],
      "execution_count": 0,
      "outputs": []
    },
    {
      "cell_type": "code",
      "metadata": {
        "id": "odkK7dfph9D9",
        "colab_type": "code",
        "outputId": "28e7c0e8-f6df-4b0a-e61d-b05a11bceb6e",
        "colab": {
          "base_uri": "https://localhost:8080/",
          "height": 34
        }
      },
      "source": [
        "len(list((PATH / 'song_data').rglob('*.json')))"
      ],
      "execution_count": 0,
      "outputs": [
        {
          "output_type": "execute_result",
          "data": {
            "text/plain": [
              "71"
            ]
          },
          "metadata": {
            "tags": []
          },
          "execution_count": 12
        }
      ]
    },
    {
      "cell_type": "markdown",
      "metadata": {
        "id": "h1PKYZIEh9EC",
        "colab_type": "text"
      },
      "source": [
        "We have 71 songs metadata."
      ]
    },
    {
      "cell_type": "code",
      "metadata": {
        "id": "BMtiXyLBh9EF",
        "colab_type": "code",
        "outputId": "c78eb467-db78-4f80-9c8a-1ec28df7c075",
        "colab": {
          "base_uri": "https://localhost:8080/",
          "height": 34
        }
      },
      "source": [
        "len(list((PATH / 'log_data').rglob('*.json')))"
      ],
      "execution_count": 0,
      "outputs": [
        {
          "output_type": "execute_result",
          "data": {
            "text/plain": [
              "30"
            ]
          },
          "metadata": {
            "tags": []
          },
          "execution_count": 13
        }
      ]
    },
    {
      "cell_type": "markdown",
      "metadata": {
        "id": "mkIlzLXwh9EJ",
        "colab_type": "text"
      },
      "source": [
        "We have 30 files where each one has logs data."
      ]
    },
    {
      "cell_type": "code",
      "metadata": {
        "id": "g7EewK9Sh9EK",
        "colab_type": "code",
        "outputId": "774373ba-3a99-49fe-d922-deaaa40d256f",
        "colab": {
          "base_uri": "https://localhost:8080/",
          "height": 34
        }
      },
      "source": [
        "len(list(PATH.rglob('*.json')))"
      ],
      "execution_count": 0,
      "outputs": [
        {
          "output_type": "execute_result",
          "data": {
            "text/plain": [
              "101"
            ]
          },
          "metadata": {
            "tags": []
          },
          "execution_count": 14
        }
      ]
    },
    {
      "cell_type": "markdown",
      "metadata": {
        "id": "R2GpGJGxh9EO",
        "colab_type": "text"
      },
      "source": [
        "## Songs Metadata"
      ]
    },
    {
      "cell_type": "code",
      "metadata": {
        "id": "A6GkvKpth9EP",
        "colab_type": "code",
        "outputId": "f963de3e-7c67-47f5-de61-976816e5a704",
        "colab": {
          "base_uri": "https://localhost:8080/",
          "height": 134
        }
      },
      "source": [
        "songs_files = list((PATH / 'song_data').rglob('*.json'))\n",
        "song_df = pd.read_json(songs_files[0], lines=True)\n",
        "song_df.head()"
      ],
      "execution_count": 0,
      "outputs": [
        {
          "output_type": "execute_result",
          "data": {
            "text/html": [
              "<div>\n",
              "<style scoped>\n",
              "    .dataframe tbody tr th:only-of-type {\n",
              "        vertical-align: middle;\n",
              "    }\n",
              "\n",
              "    .dataframe tbody tr th {\n",
              "        vertical-align: top;\n",
              "    }\n",
              "\n",
              "    .dataframe thead th {\n",
              "        text-align: right;\n",
              "    }\n",
              "</style>\n",
              "<table border=\"1\" class=\"dataframe\">\n",
              "  <thead>\n",
              "    <tr style=\"text-align: right;\">\n",
              "      <th></th>\n",
              "      <th>artist_id</th>\n",
              "      <th>artist_latitude</th>\n",
              "      <th>artist_location</th>\n",
              "      <th>artist_longitude</th>\n",
              "      <th>artist_name</th>\n",
              "      <th>duration</th>\n",
              "      <th>num_songs</th>\n",
              "      <th>song_id</th>\n",
              "      <th>title</th>\n",
              "      <th>year</th>\n",
              "    </tr>\n",
              "  </thead>\n",
              "  <tbody>\n",
              "    <tr>\n",
              "      <th>0</th>\n",
              "      <td>ARD0S291187B9B7BF5</td>\n",
              "      <td>NaN</td>\n",
              "      <td>Ohio</td>\n",
              "      <td>NaN</td>\n",
              "      <td>Rated R</td>\n",
              "      <td>114.78159</td>\n",
              "      <td>1</td>\n",
              "      <td>SOMJBYD12A6D4F8557</td>\n",
              "      <td>Keepin It Real (Skit)</td>\n",
              "      <td>0</td>\n",
              "    </tr>\n",
              "  </tbody>\n",
              "</table>\n",
              "</div>"
            ],
            "text/plain": [
              "            artist_id  artist_latitude  ...                  title  year\n",
              "0  ARD0S291187B9B7BF5              NaN  ...  Keepin It Real (Skit)     0\n",
              "\n",
              "[1 rows x 10 columns]"
            ]
          },
          "metadata": {
            "tags": []
          },
          "execution_count": 15
        }
      ]
    },
    {
      "cell_type": "code",
      "metadata": {
        "id": "f3y6b_jVh9EV",
        "colab_type": "code",
        "colab": {}
      },
      "source": [
        "for i, f in enumerate(songs_files):\n",
        "    if i == 0:\n",
        "        songs_df = pd.read_json(f, lines=True)\n",
        "    else:\n",
        "        songs_df = songs_df.append(pd.read_json(f, lines=True), ignore_index=True)"
      ],
      "execution_count": 0,
      "outputs": []
    },
    {
      "cell_type": "code",
      "metadata": {
        "id": "3qnFIJYQh9EZ",
        "colab_type": "code",
        "outputId": "14857a8b-5c24-463a-d283-ef1c901d5f7e",
        "colab": {
          "base_uri": "https://localhost:8080/",
          "height": 377
        }
      },
      "source": [
        "songs_df.head()"
      ],
      "execution_count": 0,
      "outputs": [
        {
          "output_type": "execute_result",
          "data": {
            "text/html": [
              "<div>\n",
              "<style scoped>\n",
              "    .dataframe tbody tr th:only-of-type {\n",
              "        vertical-align: middle;\n",
              "    }\n",
              "\n",
              "    .dataframe tbody tr th {\n",
              "        vertical-align: top;\n",
              "    }\n",
              "\n",
              "    .dataframe thead th {\n",
              "        text-align: right;\n",
              "    }\n",
              "</style>\n",
              "<table border=\"1\" class=\"dataframe\">\n",
              "  <thead>\n",
              "    <tr style=\"text-align: right;\">\n",
              "      <th></th>\n",
              "      <th>artist_id</th>\n",
              "      <th>artist_latitude</th>\n",
              "      <th>artist_location</th>\n",
              "      <th>artist_longitude</th>\n",
              "      <th>artist_name</th>\n",
              "      <th>duration</th>\n",
              "      <th>num_songs</th>\n",
              "      <th>song_id</th>\n",
              "      <th>title</th>\n",
              "      <th>year</th>\n",
              "    </tr>\n",
              "  </thead>\n",
              "  <tbody>\n",
              "    <tr>\n",
              "      <th>0</th>\n",
              "      <td>ARD0S291187B9B7BF5</td>\n",
              "      <td>NaN</td>\n",
              "      <td>Ohio</td>\n",
              "      <td>NaN</td>\n",
              "      <td>Rated R</td>\n",
              "      <td>114.78159</td>\n",
              "      <td>1</td>\n",
              "      <td>SOMJBYD12A6D4F8557</td>\n",
              "      <td>Keepin It Real (Skit)</td>\n",
              "      <td>0</td>\n",
              "    </tr>\n",
              "    <tr>\n",
              "      <th>1</th>\n",
              "      <td>AR7G5I41187FB4CE6C</td>\n",
              "      <td>NaN</td>\n",
              "      <td>London, England</td>\n",
              "      <td>NaN</td>\n",
              "      <td>Adam Ant</td>\n",
              "      <td>233.40363</td>\n",
              "      <td>1</td>\n",
              "      <td>SONHOTT12A8C13493C</td>\n",
              "      <td>Something Girls</td>\n",
              "      <td>1982</td>\n",
              "    </tr>\n",
              "    <tr>\n",
              "      <th>2</th>\n",
              "      <td>ARNTLGG11E2835DDB9</td>\n",
              "      <td>NaN</td>\n",
              "      <td></td>\n",
              "      <td>NaN</td>\n",
              "      <td>Clp</td>\n",
              "      <td>266.39628</td>\n",
              "      <td>1</td>\n",
              "      <td>SOUDSGM12AC9618304</td>\n",
              "      <td>Insatiable (Instrumental Version)</td>\n",
              "      <td>0</td>\n",
              "    </tr>\n",
              "    <tr>\n",
              "      <th>3</th>\n",
              "      <td>ARD7TVE1187B99BFB1</td>\n",
              "      <td>NaN</td>\n",
              "      <td>California - LA</td>\n",
              "      <td>NaN</td>\n",
              "      <td>Casual</td>\n",
              "      <td>218.93179</td>\n",
              "      <td>1</td>\n",
              "      <td>SOMZWCG12A8C13C480</td>\n",
              "      <td>I Didn't Mean To</td>\n",
              "      <td>0</td>\n",
              "    </tr>\n",
              "    <tr>\n",
              "      <th>4</th>\n",
              "      <td>ARKFYS91187B98E58F</td>\n",
              "      <td>NaN</td>\n",
              "      <td></td>\n",
              "      <td>NaN</td>\n",
              "      <td>Jeff And Sheri Easter</td>\n",
              "      <td>267.70240</td>\n",
              "      <td>1</td>\n",
              "      <td>SOYMRWW12A6D4FAB14</td>\n",
              "      <td>The Moon And I (Ordinary Day Album Version)</td>\n",
              "      <td>0</td>\n",
              "    </tr>\n",
              "  </tbody>\n",
              "</table>\n",
              "</div>"
            ],
            "text/plain": [
              "            artist_id  ...  year\n",
              "0  ARD0S291187B9B7BF5  ...     0\n",
              "1  AR7G5I41187FB4CE6C  ...  1982\n",
              "2  ARNTLGG11E2835DDB9  ...     0\n",
              "3  ARD7TVE1187B99BFB1  ...     0\n",
              "4  ARKFYS91187B98E58F  ...     0\n",
              "\n",
              "[5 rows x 10 columns]"
            ]
          },
          "metadata": {
            "tags": []
          },
          "execution_count": 17
        }
      ]
    },
    {
      "cell_type": "code",
      "metadata": {
        "id": "Xk-GzEUUh9Ec",
        "colab_type": "code",
        "outputId": "28573d0e-fa52-43ef-c065-b245f5a2ad99",
        "colab": {
          "base_uri": "https://localhost:8080/",
          "height": 34
        }
      },
      "source": [
        "songs_df.shape"
      ],
      "execution_count": 0,
      "outputs": [
        {
          "output_type": "execute_result",
          "data": {
            "text/plain": [
              "(71, 10)"
            ]
          },
          "metadata": {
            "tags": []
          },
          "execution_count": 18
        }
      ]
    },
    {
      "cell_type": "markdown",
      "metadata": {
        "id": "V54b1AA_h9Eh",
        "colab_type": "text"
      },
      "source": [
        "## Logs Data"
      ]
    },
    {
      "cell_type": "code",
      "metadata": {
        "id": "lup5bybph9Ei",
        "colab_type": "code",
        "outputId": "7c9a7b67-5f3f-446e-cfb3-68a116f15e09",
        "colab": {
          "base_uri": "https://localhost:8080/",
          "height": 377
        }
      },
      "source": [
        "logs_files = list((PATH / 'log_data').rglob('*.json'))\n",
        "log_df = pd.read_json(logs_files[0], lines=True)\n",
        "log_df.head()"
      ],
      "execution_count": 0,
      "outputs": [
        {
          "output_type": "execute_result",
          "data": {
            "text/html": [
              "<div>\n",
              "<style scoped>\n",
              "    .dataframe tbody tr th:only-of-type {\n",
              "        vertical-align: middle;\n",
              "    }\n",
              "\n",
              "    .dataframe tbody tr th {\n",
              "        vertical-align: top;\n",
              "    }\n",
              "\n",
              "    .dataframe thead th {\n",
              "        text-align: right;\n",
              "    }\n",
              "</style>\n",
              "<table border=\"1\" class=\"dataframe\">\n",
              "  <thead>\n",
              "    <tr style=\"text-align: right;\">\n",
              "      <th></th>\n",
              "      <th>artist</th>\n",
              "      <th>auth</th>\n",
              "      <th>firstName</th>\n",
              "      <th>gender</th>\n",
              "      <th>itemInSession</th>\n",
              "      <th>lastName</th>\n",
              "      <th>length</th>\n",
              "      <th>level</th>\n",
              "      <th>location</th>\n",
              "      <th>method</th>\n",
              "      <th>page</th>\n",
              "      <th>registration</th>\n",
              "      <th>sessionId</th>\n",
              "      <th>song</th>\n",
              "      <th>status</th>\n",
              "      <th>ts</th>\n",
              "      <th>userAgent</th>\n",
              "      <th>userId</th>\n",
              "    </tr>\n",
              "  </thead>\n",
              "  <tbody>\n",
              "    <tr>\n",
              "      <th>0</th>\n",
              "      <td>The Future Sound of London</td>\n",
              "      <td>Logged In</td>\n",
              "      <td>Ryan</td>\n",
              "      <td>M</td>\n",
              "      <td>0</td>\n",
              "      <td>Smith</td>\n",
              "      <td>405.28934</td>\n",
              "      <td>free</td>\n",
              "      <td>San Jose-Sunnyvale-Santa Clara, CA</td>\n",
              "      <td>PUT</td>\n",
              "      <td>NextSong</td>\n",
              "      <td>1.541017e+12</td>\n",
              "      <td>873</td>\n",
              "      <td>Papua New Guinea</td>\n",
              "      <td>200</td>\n",
              "      <td>1543020300796</td>\n",
              "      <td>\"Mozilla/5.0 (X11; Linux x86_64) AppleWebKit/5...</td>\n",
              "      <td>26</td>\n",
              "    </tr>\n",
              "    <tr>\n",
              "      <th>1</th>\n",
              "      <td>Harmonia</td>\n",
              "      <td>Logged In</td>\n",
              "      <td>Ryan</td>\n",
              "      <td>M</td>\n",
              "      <td>1</td>\n",
              "      <td>Smith</td>\n",
              "      <td>655.77751</td>\n",
              "      <td>free</td>\n",
              "      <td>San Jose-Sunnyvale-Santa Clara, CA</td>\n",
              "      <td>PUT</td>\n",
              "      <td>NextSong</td>\n",
              "      <td>1.541017e+12</td>\n",
              "      <td>873</td>\n",
              "      <td>Sehr kosmisch</td>\n",
              "      <td>200</td>\n",
              "      <td>1543020705796</td>\n",
              "      <td>\"Mozilla/5.0 (X11; Linux x86_64) AppleWebKit/5...</td>\n",
              "      <td>26</td>\n",
              "    </tr>\n",
              "    <tr>\n",
              "      <th>2</th>\n",
              "      <td>None</td>\n",
              "      <td>Logged Out</td>\n",
              "      <td>None</td>\n",
              "      <td>None</td>\n",
              "      <td>0</td>\n",
              "      <td>None</td>\n",
              "      <td>NaN</td>\n",
              "      <td>free</td>\n",
              "      <td>None</td>\n",
              "      <td>GET</td>\n",
              "      <td>Home</td>\n",
              "      <td>NaN</td>\n",
              "      <td>86</td>\n",
              "      <td>None</td>\n",
              "      <td>200</td>\n",
              "      <td>1543026352796</td>\n",
              "      <td>None</td>\n",
              "      <td></td>\n",
              "    </tr>\n",
              "    <tr>\n",
              "      <th>3</th>\n",
              "      <td>None</td>\n",
              "      <td>Logged Out</td>\n",
              "      <td>None</td>\n",
              "      <td>None</td>\n",
              "      <td>1</td>\n",
              "      <td>None</td>\n",
              "      <td>NaN</td>\n",
              "      <td>free</td>\n",
              "      <td>None</td>\n",
              "      <td>GET</td>\n",
              "      <td>Home</td>\n",
              "      <td>NaN</td>\n",
              "      <td>86</td>\n",
              "      <td>None</td>\n",
              "      <td>200</td>\n",
              "      <td>1543026402796</td>\n",
              "      <td>None</td>\n",
              "      <td></td>\n",
              "    </tr>\n",
              "    <tr>\n",
              "      <th>4</th>\n",
              "      <td>None</td>\n",
              "      <td>Logged Out</td>\n",
              "      <td>None</td>\n",
              "      <td>None</td>\n",
              "      <td>2</td>\n",
              "      <td>None</td>\n",
              "      <td>NaN</td>\n",
              "      <td>free</td>\n",
              "      <td>None</td>\n",
              "      <td>GET</td>\n",
              "      <td>Help</td>\n",
              "      <td>NaN</td>\n",
              "      <td>86</td>\n",
              "      <td>None</td>\n",
              "      <td>200</td>\n",
              "      <td>1543026454796</td>\n",
              "      <td>None</td>\n",
              "      <td></td>\n",
              "    </tr>\n",
              "  </tbody>\n",
              "</table>\n",
              "</div>"
            ],
            "text/plain": [
              "                       artist  ... userId\n",
              "0  The Future Sound of London  ...     26\n",
              "1                    Harmonia  ...     26\n",
              "2                        None  ...       \n",
              "3                        None  ...       \n",
              "4                        None  ...       \n",
              "\n",
              "[5 rows x 18 columns]"
            ]
          },
          "metadata": {
            "tags": []
          },
          "execution_count": 19
        }
      ]
    },
    {
      "cell_type": "code",
      "metadata": {
        "id": "G5J-WYuhh9Eo",
        "colab_type": "code",
        "outputId": "658d0746-34f6-4368-9e33-ca8af3888f12",
        "colab": {
          "base_uri": "https://localhost:8080/",
          "height": 34
        }
      },
      "source": [
        "log_df.shape, song_df.shape"
      ],
      "execution_count": 0,
      "outputs": [
        {
          "output_type": "execute_result",
          "data": {
            "text/plain": [
              "((358, 18), (1, 10))"
            ]
          },
          "metadata": {
            "tags": []
          },
          "execution_count": 20
        }
      ]
    },
    {
      "cell_type": "code",
      "metadata": {
        "id": "F2Oia1IMh9Eu",
        "colab_type": "code",
        "colab": {}
      },
      "source": [
        "logs_files = list((PATH / 'log_data').rglob('*.json'))\n",
        "for i, f in enumerate(logs_files):\n",
        "    if i == 0:\n",
        "        logs_df = pd.read_json(f, lines=True)\n",
        "    else:\n",
        "        logs_df = logs_df.append(pd.read_json(f, lines=True), ignore_index=True)"
      ],
      "execution_count": 0,
      "outputs": []
    },
    {
      "cell_type": "code",
      "metadata": {
        "id": "Cqc_nQl9h9Ex",
        "colab_type": "code",
        "outputId": "a59c4c36-142c-4c57-bb6c-920dbf9718a3",
        "colab": {
          "base_uri": "https://localhost:8080/",
          "height": 377
        }
      },
      "source": [
        "logs_df.head()"
      ],
      "execution_count": 0,
      "outputs": [
        {
          "output_type": "execute_result",
          "data": {
            "text/html": [
              "<div>\n",
              "<style scoped>\n",
              "    .dataframe tbody tr th:only-of-type {\n",
              "        vertical-align: middle;\n",
              "    }\n",
              "\n",
              "    .dataframe tbody tr th {\n",
              "        vertical-align: top;\n",
              "    }\n",
              "\n",
              "    .dataframe thead th {\n",
              "        text-align: right;\n",
              "    }\n",
              "</style>\n",
              "<table border=\"1\" class=\"dataframe\">\n",
              "  <thead>\n",
              "    <tr style=\"text-align: right;\">\n",
              "      <th></th>\n",
              "      <th>artist</th>\n",
              "      <th>auth</th>\n",
              "      <th>firstName</th>\n",
              "      <th>gender</th>\n",
              "      <th>itemInSession</th>\n",
              "      <th>lastName</th>\n",
              "      <th>length</th>\n",
              "      <th>level</th>\n",
              "      <th>location</th>\n",
              "      <th>method</th>\n",
              "      <th>page</th>\n",
              "      <th>registration</th>\n",
              "      <th>sessionId</th>\n",
              "      <th>song</th>\n",
              "      <th>status</th>\n",
              "      <th>ts</th>\n",
              "      <th>userAgent</th>\n",
              "      <th>userId</th>\n",
              "    </tr>\n",
              "  </thead>\n",
              "  <tbody>\n",
              "    <tr>\n",
              "      <th>0</th>\n",
              "      <td>The Future Sound of London</td>\n",
              "      <td>Logged In</td>\n",
              "      <td>Ryan</td>\n",
              "      <td>M</td>\n",
              "      <td>0</td>\n",
              "      <td>Smith</td>\n",
              "      <td>405.28934</td>\n",
              "      <td>free</td>\n",
              "      <td>San Jose-Sunnyvale-Santa Clara, CA</td>\n",
              "      <td>PUT</td>\n",
              "      <td>NextSong</td>\n",
              "      <td>1.541017e+12</td>\n",
              "      <td>873</td>\n",
              "      <td>Papua New Guinea</td>\n",
              "      <td>200</td>\n",
              "      <td>1543020300796</td>\n",
              "      <td>\"Mozilla/5.0 (X11; Linux x86_64) AppleWebKit/5...</td>\n",
              "      <td>26</td>\n",
              "    </tr>\n",
              "    <tr>\n",
              "      <th>1</th>\n",
              "      <td>Harmonia</td>\n",
              "      <td>Logged In</td>\n",
              "      <td>Ryan</td>\n",
              "      <td>M</td>\n",
              "      <td>1</td>\n",
              "      <td>Smith</td>\n",
              "      <td>655.77751</td>\n",
              "      <td>free</td>\n",
              "      <td>San Jose-Sunnyvale-Santa Clara, CA</td>\n",
              "      <td>PUT</td>\n",
              "      <td>NextSong</td>\n",
              "      <td>1.541017e+12</td>\n",
              "      <td>873</td>\n",
              "      <td>Sehr kosmisch</td>\n",
              "      <td>200</td>\n",
              "      <td>1543020705796</td>\n",
              "      <td>\"Mozilla/5.0 (X11; Linux x86_64) AppleWebKit/5...</td>\n",
              "      <td>26</td>\n",
              "    </tr>\n",
              "    <tr>\n",
              "      <th>2</th>\n",
              "      <td>None</td>\n",
              "      <td>Logged Out</td>\n",
              "      <td>None</td>\n",
              "      <td>None</td>\n",
              "      <td>0</td>\n",
              "      <td>None</td>\n",
              "      <td>NaN</td>\n",
              "      <td>free</td>\n",
              "      <td>None</td>\n",
              "      <td>GET</td>\n",
              "      <td>Home</td>\n",
              "      <td>NaN</td>\n",
              "      <td>86</td>\n",
              "      <td>None</td>\n",
              "      <td>200</td>\n",
              "      <td>1543026352796</td>\n",
              "      <td>None</td>\n",
              "      <td></td>\n",
              "    </tr>\n",
              "    <tr>\n",
              "      <th>3</th>\n",
              "      <td>None</td>\n",
              "      <td>Logged Out</td>\n",
              "      <td>None</td>\n",
              "      <td>None</td>\n",
              "      <td>1</td>\n",
              "      <td>None</td>\n",
              "      <td>NaN</td>\n",
              "      <td>free</td>\n",
              "      <td>None</td>\n",
              "      <td>GET</td>\n",
              "      <td>Home</td>\n",
              "      <td>NaN</td>\n",
              "      <td>86</td>\n",
              "      <td>None</td>\n",
              "      <td>200</td>\n",
              "      <td>1543026402796</td>\n",
              "      <td>None</td>\n",
              "      <td></td>\n",
              "    </tr>\n",
              "    <tr>\n",
              "      <th>4</th>\n",
              "      <td>None</td>\n",
              "      <td>Logged Out</td>\n",
              "      <td>None</td>\n",
              "      <td>None</td>\n",
              "      <td>2</td>\n",
              "      <td>None</td>\n",
              "      <td>NaN</td>\n",
              "      <td>free</td>\n",
              "      <td>None</td>\n",
              "      <td>GET</td>\n",
              "      <td>Help</td>\n",
              "      <td>NaN</td>\n",
              "      <td>86</td>\n",
              "      <td>None</td>\n",
              "      <td>200</td>\n",
              "      <td>1543026454796</td>\n",
              "      <td>None</td>\n",
              "      <td></td>\n",
              "    </tr>\n",
              "  </tbody>\n",
              "</table>\n",
              "</div>"
            ],
            "text/plain": [
              "                       artist  ... userId\n",
              "0  The Future Sound of London  ...     26\n",
              "1                    Harmonia  ...     26\n",
              "2                        None  ...       \n",
              "3                        None  ...       \n",
              "4                        None  ...       \n",
              "\n",
              "[5 rows x 18 columns]"
            ]
          },
          "metadata": {
            "tags": []
          },
          "execution_count": 22
        }
      ]
    },
    {
      "cell_type": "code",
      "metadata": {
        "id": "C22j6jITh9E3",
        "colab_type": "code",
        "outputId": "27a0174c-cc4f-4346-e78d-21742c215f2c",
        "colab": {
          "base_uri": "https://localhost:8080/",
          "height": 34
        }
      },
      "source": [
        "logs_df.shape"
      ],
      "execution_count": 0,
      "outputs": [
        {
          "output_type": "execute_result",
          "data": {
            "text/plain": [
              "(8056, 18)"
            ]
          },
          "metadata": {
            "tags": []
          },
          "execution_count": 23
        }
      ]
    },
    {
      "cell_type": "code",
      "metadata": {
        "id": "2iLKDqq5h9E6",
        "colab_type": "code",
        "outputId": "f3465812-9d72-4549-9d19-56e3be66ec6c",
        "colab": {
          "base_uri": "https://localhost:8080/",
          "height": 85
        }
      },
      "source": [
        "logs_df.columns"
      ],
      "execution_count": 0,
      "outputs": [
        {
          "output_type": "execute_result",
          "data": {
            "text/plain": [
              "Index(['artist', 'auth', 'firstName', 'gender', 'itemInSession', 'lastName',\n",
              "       'length', 'level', 'location', 'method', 'page', 'registration',\n",
              "       'sessionId', 'song', 'status', 'ts', 'userAgent', 'userId'],\n",
              "      dtype='object')"
            ]
          },
          "metadata": {
            "tags": []
          },
          "execution_count": 24
        }
      ]
    },
    {
      "cell_type": "code",
      "metadata": {
        "id": "safmnWT5h9FA",
        "colab_type": "code",
        "outputId": "4108dde2-980c-4c6a-e612-1bcea5d0393c",
        "colab": {
          "base_uri": "https://localhost:8080/",
          "height": 34
        }
      },
      "source": [
        "(logs_df['page'] == 'NextSong').sum()"
      ],
      "execution_count": 0,
      "outputs": [
        {
          "output_type": "execute_result",
          "data": {
            "text/plain": [
              "6820"
            ]
          },
          "metadata": {
            "tags": []
          },
          "execution_count": 25
        }
      ]
    },
    {
      "cell_type": "code",
      "metadata": {
        "id": "4pcZndk8h9FF",
        "colab_type": "code",
        "outputId": "7af2211d-78f3-44f0-f449-aaf708eedf96",
        "colab": {
          "base_uri": "https://localhost:8080/",
          "height": 255
        }
      },
      "source": [
        "logs_df['page'].value_counts()"
      ],
      "execution_count": 0,
      "outputs": [
        {
          "output_type": "execute_result",
          "data": {
            "text/plain": [
              "NextSong            6820\n",
              "Home                 806\n",
              "Login                 92\n",
              "Logout                90\n",
              "Downgrade             60\n",
              "Settings              56\n",
              "Help                  47\n",
              "About                 36\n",
              "Upgrade               21\n",
              "Save Settings         10\n",
              "Error                  9\n",
              "Submit Upgrade         8\n",
              "Submit Downgrade       1\n",
              "Name: page, dtype: int64"
            ]
          },
          "metadata": {
            "tags": []
          },
          "execution_count": 26
        }
      ]
    },
    {
      "cell_type": "code",
      "metadata": {
        "id": "TePoqoIKh9FM",
        "colab_type": "code",
        "outputId": "6bee5a9e-8d07-4ac0-82a2-14cee7b38afa",
        "colab": {
          "base_uri": "https://localhost:8080/",
          "height": 34
        }
      },
      "source": [
        "logs_files[0].resolve()"
      ],
      "execution_count": 0,
      "outputs": [
        {
          "output_type": "execute_result",
          "data": {
            "text/plain": [
              "PosixPath('/content/data/log_data/2018/11/2018-11-24-events.json')"
            ]
          },
          "metadata": {
            "tags": []
          },
          "execution_count": 27
        }
      ]
    },
    {
      "cell_type": "code",
      "metadata": {
        "id": "R7WD63P6h9Fb",
        "colab_type": "code",
        "colab": {}
      },
      "source": [
        ""
      ],
      "execution_count": 0,
      "outputs": []
    }
  ]
}